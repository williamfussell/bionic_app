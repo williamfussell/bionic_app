{
 "cells": [
  {
   "cell_type": "code",
   "execution_count": 3,
   "metadata": {},
   "outputs": [
    {
     "name": "stdout",
     "output_type": "stream",
     "text": [
      "/Users/williamfussell/Downloads/bionic_friendship.txt\n"
     ]
    }
   ],
   "source": [
    "import os\n",
    "\n",
    "def to_bionic_reading(filename, emphasis_length=3):\n",
    "    # Open the file and read lines\n",
    "    with open(filename, 'r') as file:\n",
    "        lines = file.readlines()\n",
    "\n",
    "    # Apply bionic reading transformation\n",
    "    new_lines = []\n",
    "    for line in lines:\n",
    "        words = line.split()\n",
    "        bionic_line = \"\"\n",
    "\n",
    "        for word in words:\n",
    "            # Add bold emphasis to the first few characters of each word\n",
    "            if len(word) <= emphasis_length:\n",
    "                bionic_line += f\"**{word}** \"\n",
    "            else:\n",
    "                bionic_line += f\"**{word[:emphasis_length]}**{word[emphasis_length:]} \"\n",
    "        new_lines.append(bionic_line.strip())\n",
    "\n",
    "    # Write the transformed text to a new file\n",
    "    directory, base_filename = os.path.split(filename)\n",
    "    new_base_filename = \"bionic_\" + base_filename\n",
    "    new_filename = os.path.join(directory, new_base_filename)\n",
    "\n",
    "    with open(new_filename, 'w') as file:\n",
    "        for line in new_lines:\n",
    "            file.write(line + '\\n')\n",
    "\n",
    "    return new_filename\n",
    "\n",
    "# Test the function\n",
    "print(to_bionic_reading(\"/Users/williamfussell/Downloads/friendship.txt\"))"
   ]
  },
  {
   "cell_type": "code",
   "execution_count": 6,
   "metadata": {},
   "outputs": [
    {
     "name": "stdout",
     "output_type": "stream",
     "text": [
      "/Users/williamfussell/Downloads/bionic_friendship.html\n"
     ]
    }
   ],
   "source": [
    "import os\n",
    "\n",
    "def to_bionic_reading(filename, emphasis_length=3):\n",
    "    # Open the file and read lines\n",
    "    with open(filename, 'r') as file:\n",
    "        lines = file.readlines()\n",
    "\n",
    "    # Apply bionic reading transformation\n",
    "    new_lines = []\n",
    "    for line in lines:\n",
    "        words = line.split()\n",
    "        bionic_line = \"\"\n",
    "\n",
    "        for word in words:\n",
    "            # Add bold emphasis to the first few characters of each word\n",
    "            if len(word) <= emphasis_length:\n",
    "                bionic_line += f\"<b>{word}</b> \"\n",
    "            else:\n",
    "                bionic_line += f\"<b>{word[:emphasis_length]}</b>{word[emphasis_length:]} \"\n",
    "        new_lines.append(bionic_line.strip())\n",
    "\n",
    "    # Write the transformed text to a new file\n",
    "    directory, base_filename = os.path.split(filename)\n",
    "    base_filename_without_ext = os.path.splitext(base_filename)[0]\n",
    "    new_base_filename = \"bionic_\" + base_filename_without_ext + '.html'\n",
    "    new_filename = os.path.join(directory, new_base_filename)\n",
    "\n",
    "    with open(new_filename, 'w') as file:\n",
    "        file.write('<html><body>')\n",
    "        for line in new_lines:\n",
    "            file.write('<p>' + line + '</p>')\n",
    "        file.write('</body></html>')\n",
    "\n",
    "    return new_filename\n",
    "\n",
    "# Test the function\n",
    "print(to_bionic_reading(\"/Users/williamfussell/Downloads/friendship.txt\"))"
   ]
  }
 ],
 "metadata": {
  "kernelspec": {
   "display_name": "base",
   "language": "python",
   "name": "python3"
  },
  "language_info": {
   "codemirror_mode": {
    "name": "ipython",
    "version": 3
   },
   "file_extension": ".py",
   "mimetype": "text/x-python",
   "name": "python",
   "nbconvert_exporter": "python",
   "pygments_lexer": "ipython3",
   "version": "3.10.9"
  },
  "orig_nbformat": 4
 },
 "nbformat": 4,
 "nbformat_minor": 2
}
